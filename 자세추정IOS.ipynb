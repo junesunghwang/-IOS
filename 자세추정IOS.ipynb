import plotly.graph_objects as go
from numpy.linalg import norm  #




image_path = '/content/drive/MyDrive/Cv2-1/KakaoTalk_20250729_153526831_03.jpg'
three_d_points,theta_deg = estimate_pose_3d(image_path)


# points3d_full을 (3, 17) 형태로 변환 (x, y, z 행으로)
points3d_full = three_d_points.T  # (17,3) -> (3,17)

# valid_mask 예시 (모든 포인트 유효 가정)
valid_mask = np.ones(17, dtype=bool)  # 실제: 유효 포인트 마스크

# 스켈레톤 연결 (사용자 제공)
skeleton = [
    [0, 1], [1, 3], [0, 2], [2, 4],  # 머리 부분 (얼굴)
    [5, 6],  # 어깨
    [5, 7], [7, 9],  # 왼쪽 팔
    [6, 8], [8, 10],  # 오른쪽 팔
    [11, 12],  # 골반
    [5, 11], [6, 12],  # 몸통
    [11, 13], [13, 15],  # 왼쪽 다리
    [12, 14], [14, 16]   # 오른쪽 다리
]

# 색상 매핑 (사용자 제공, tuple로 키 사용)
colors = {
    (0,1): 'yellow', (1,3): 'yellow', (0,2): 'yellow', (2,4): 'yellow',  # 머리: yellow
    (5,6): 'magenta', (11,12): 'magenta', (5,11): 'magenta', (6,12): 'magenta',  # 몸통/골반: magenta
    (5,7): 'blue', (7,9): 'blue',  # 왼쪽 팔: blue
    (6,8): 'red', (8,10): 'red',  # 오른쪽 팔: red
    (11,13): 'cyan', (13,15): 'cyan',  # 왼쪽 다리: cyan
    (12,14): 'green', (14,16): 'green'   # 오른쪽 다리: green
}

# 포인트 중앙화 (centroid to origin)
centroid = np.nanmean(points3d_full[:, valid_mask], axis=1)
points3d_full -= centroid[:, np.newaxis]

# 스케일 (human size)
shoulder_dist = np.linalg.norm(points3d_full[:, 5] - points3d_full[:, 6]) if valid_mask[5] and valid_mask[6] else 1.0
scale_factor = 0.4 / shoulder_dist if shoulder_dist > 0 else 1.0
points3d_full *= scale_factor

# 추가: 유효하지 않은 키포인트 경고 메시지
missing = np.where(~valid_mask)[0]
if len(missing) > 0:
    print(f"Warning: The following keypoints are missing or invalid: {list(missing)}. These will not be plotted.")

# 추가: 동적 뷰 각도 계산 (포즈 방향 기반)
def normalized(v):
    n = norm(v)
    return v / n if n > 0 else np.array([0., 0., 1.])
if all(valid_mask[i] for i in [0, 5, 6, 11, 12]):  # 필요한 키포인트 확인
    body_center = np.mean(points3d_full[:, [5, 6, 11, 12]], axis=1)
    nose_pos = points3d_full[:, 0]
    face_dir = normalized(nose_pos - body_center)
    eye_pos = -1.5 * face_dir  # 카메라 위치: 얼굴 방향 반대로 (전면 뷰)

    hip_avg = np.mean(points3d_full[:, [11, 12]], axis=1)
    shoulder_avg = np.mean(points3d_full[:, [5, 6]], axis=1)
    up_dir = normalized(shoulder_avg - hip_avg)  # up 벡터: 골반에서 어깨 방향
else:
    eye_pos = np.array([0., 1.5, 0.1])  # fallback 기본 위치
    up_dir = np.array([0., 0., 1.])  # fallback up

# Plotly Figure 생성
fig = go.Figure()

# 포인트 산점도 (신뢰도 색상 제거, 기본 색상 적용)
x, y, z = points3d_full[0], points3d_full[1], points3d_full[2]
fig.add_trace(go.Scatter3d(x=x[valid_mask], y=y[valid_mask], z=z[valid_mask], mode='markers',
                           marker=dict(size=3, color='black', opacity=0.8)))

# 선 연결
for conn in skeleton:
    idx1, idx2 = conn
    if valid_mask[idx1] and valid_mask[idx2]:
        # colors 키는 sorted tuple로 (예: (5,7) 또는 (7,5) -> (5,7))
        key = tuple(sorted(conn))
        color = colors.get(key, 'black')
        fig.add_trace(go.Scatter3d(x=points3d_full[0, [idx1, idx2]],
                                   y=points3d_full[1, [idx1, idx2]],
                                   z=points3d_full[2, [idx1, idx2]],
                                   mode='lines',
                                   line=dict(color=color, width=5)))

# 축 균형 및 레이아웃 (패딩 포함)
all_min = min(np.nanmin(x), np.nanmin(y), np.nanmin(z))
all_max = max(np.nanmax(x), np.nanmax(y), np.nanmax(z))
range_val = all_max - all_min
padding = 0.3 * range_val if range_val > 0 else 1.0
min_val = all_min - padding
max_val = all_max + padding
fig.update_layout(scene=dict(
    xaxis=dict(title='X', range=[min_val, max_val]),
    yaxis=dict(title='Y', range=[min_val, max_val]),
    zaxis=dict(title='Z', range=[min_val, max_val]),
    aspectmode='cube',
    camera=dict(
        up=dict(x=up_dir[0], y=up_dir[1], z=up_dir[2]),
        center=dict(x=0, y=0, z=0),
        eye=dict(x=eye_pos[0], y=eye_pos[1], z=eye_pos[2])
    )),
    width=800,
    height=700,
    margin=dict(r=20, l=10, b=10, t=10))

fig.show()
# fig.write_html('my_3d_graph.html')
